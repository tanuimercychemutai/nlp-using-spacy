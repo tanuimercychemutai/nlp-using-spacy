{
 "cells": [
  {
   "cell_type": "code",
   "execution_count": 1,
   "id": "0bef4662",
   "metadata": {},
   "outputs": [],
   "source": [
    "import spacy"
   ]
  },
  {
   "cell_type": "code",
   "execution_count": 2,
   "id": "75a0f547",
   "metadata": {},
   "outputs": [],
   "source": [
    "nlp = spacy.load('en_core_web_sm')"
   ]
  },
  {
   "cell_type": "code",
   "execution_count": 3,
   "id": "27f9e89a",
   "metadata": {},
   "outputs": [
    {
     "name": "stdout",
     "output_type": "stream",
     "text": [
      "I PRON\n",
      "am AUX\n",
      "learning VERB\n",
      "how ADV\n",
      "to PART\n",
      "build VERB\n",
      "chatbots NOUN\n"
     ]
    }
   ],
   "source": [
    "doc = nlp(u'I am learning how to build chatbots')\n",
    "for token in doc:\n",
    "    print(token.text, token.pos_)"
   ]
  },
  {
   "cell_type": "code",
   "execution_count": 4,
   "id": "2483f385",
   "metadata": {},
   "outputs": [
    {
     "name": "stdout",
     "output_type": "stream",
     "text": [
      "I PRON\n",
      "am AUX\n",
      "going VERB\n",
      "to ADP\n",
      "lunch NOUN\n"
     ]
    }
   ],
   "source": [
    "doc =nlp(u'I am going to lunch')\n",
    "for words in doc:\n",
    "    print(words.text, words.pos_)"
   ]
  },
  {
   "cell_type": "code",
   "execution_count": 5,
   "id": "ae134d1c",
   "metadata": {},
   "outputs": [
    {
     "name": "stdout",
     "output_type": "stream",
     "text": [
      "Google PROPN Google NNP compound Xxxxx True False\n",
      "release NOUN release NN ROOT xxxx True False\n",
      "\" PUNCT \" `` punct \" False False\n",
      "Move PROPN Move NNP nmod Xxxx True True\n",
      "Mirror PROPN Mirror NNP nmod Xxxxx True False\n",
      "\" PUNCT \" '' punct \" False False\n",
      "AI PROPN AI NNP compound XX True False\n",
      "experiment NOUN experiment NN appos xxxx True False\n",
      "that DET that WDT nsubj xxxx True True\n",
      "matches VERB match VBZ relcl xxxx True False\n",
      "your PRON your PRP$ poss xxxx True True\n",
      "pose NOUN pose NN dobj xxxx True False\n",
      "from ADP from IN prep xxxx True True\n",
      "80,000 NUM 80,000 CD nummod dd,ddd False False\n",
      "images NOUN image NNS pobj xxxx True False\n"
     ]
    }
   ],
   "source": [
    "doc = nlp(u'Google release \"Move Mirror\" AI experiment that matches your pose from 80,000 images')\n",
    "for token in doc:\n",
    "    print(token.text, token.pos_, token.lemma_, token.tag_, token.dep_, token.shape_, token.is_alpha, token.is_stop)"
   ]
  },
  {
   "cell_type": "code",
   "execution_count": 6,
   "id": "b566d3fc",
   "metadata": {},
   "outputs": [
    {
     "name": "stdout",
     "output_type": "stream",
     "text": [
      "I PRON I PRP nsubj X True True\n",
      "am AUX be VBP aux xx True True\n",
      "actively ADV actively RB advmod xxxx True False\n",
      "learning VERB learn VBG ROOT xxxx True False\n",
      "how ADV how WRB advmod xxx True True\n",
      "to PART to TO aux xx True True\n",
      "build VERB build VB xcomp xxxx True False\n",
      "chatbots NOUN chatbot NNS dobj xxxx True False\n"
     ]
    }
   ],
   "source": [
    "doc = nlp(u'I am actively learning how to build chatbots')\n",
    "for token in doc:\n",
    "    print(token.text, token.pos_, token.lemma_, token.tag_, token.dep_, token.shape_, token.is_alpha, token.is_stop)"
   ]
  },
  {
   "cell_type": "code",
   "execution_count": 7,
   "id": "bd5d642e",
   "metadata": {},
   "outputs": [
    {
     "name": "stdout",
     "output_type": "stream",
     "text": [
      "I I PRON PRP nsubj X True True\n",
      "am be AUX VBP aux xx True True\n",
      "learning learn VERB VBG ROOT xxxx True False\n",
      "how how ADV WRB advmod xxx True True\n",
      "to to PART TO aux xx True True\n",
      "build build VERB VB xcomp xxxx True False\n",
      "chatbots chatbot NOUN NNS dobj xxxx True False\n"
     ]
    }
   ],
   "source": [
    "doc = nlp(u'I am learning how to build chatbots')\n",
    "for token in doc:\n",
    "    print(token.text, token.lemma_, token.pos_, token.tag_, token.dep_, token.shape_, token.is_alpha, token.is_stop)"
   ]
  },
  {
   "cell_type": "code",
   "execution_count": 8,
   "id": "d1e22d54",
   "metadata": {},
   "outputs": [],
   "source": [
    "nlp =spacy.load('en_core_web_sm')\n",
    "doc =nlp(\"chuckling\")\n"
   ]
  },
  {
   "cell_type": "code",
   "execution_count": 9,
   "id": "815bba03",
   "metadata": {},
   "outputs": [
    {
     "data": {
      "text/plain": [
       "chuckling"
      ]
     },
     "execution_count": 9,
     "metadata": {},
     "output_type": "execute_result"
    }
   ],
   "source": [
    "doc[0]"
   ]
  },
  {
   "cell_type": "code",
   "execution_count": 10,
   "id": "cfc2a294",
   "metadata": {},
   "outputs": [
    {
     "data": {
      "text/plain": [
       "spacy.tokens.token.Token"
      ]
     },
     "execution_count": 10,
     "metadata": {},
     "output_type": "execute_result"
    }
   ],
   "source": [
    "type(doc[0])"
   ]
  },
  {
   "cell_type": "code",
   "execution_count": 11,
   "id": "c7915f4d",
   "metadata": {},
   "outputs": [],
   "source": [
    "lemma = []\n",
    "for token in doc:\n",
    "    if not token.is_punct:\n",
    "        lemma.append(token.lemma_)\n"
   ]
  },
  {
   "cell_type": "code",
   "execution_count": 12,
   "id": "d8c63ab3",
   "metadata": {},
   "outputs": [
    {
     "data": {
      "text/plain": [
       "'chuckle'"
      ]
     },
     "execution_count": 12,
     "metadata": {},
     "output_type": "execute_result"
    }
   ],
   "source": [
    "' '.join(lemma)"
   ]
  },
  {
   "cell_type": "code",
   "execution_count": 13,
   "id": "8861c4ab",
   "metadata": {},
   "outputs": [
    {
     "data": {
      "text/plain": [
       "chuckling"
      ]
     },
     "execution_count": 13,
     "metadata": {},
     "output_type": "execute_result"
    }
   ],
   "source": [
    "doc"
   ]
  },
  {
   "cell_type": "code",
   "execution_count": 13,
   "id": "2215e846",
   "metadata": {},
   "outputs": [],
   "source": [
    "from nltk.stem.porter import *"
   ]
  },
  {
   "cell_type": "code",
   "execution_count": 14,
   "id": "d0beeecc",
   "metadata": {},
   "outputs": [
    {
     "name": "stdout",
     "output_type": "stream",
     "text": [
      "fastest\n",
      "fastest\n"
     ]
    }
   ],
   "source": [
    "from nltk.stem.snowball import SnowballStemmer\n",
    "porter_stemmer = PorterStemmer()\n",
    "snowball_stemmer = SnowballStemmer(\"english\")\n",
    "print(porter_stemmer.stem('fastest'))\n",
    "print(snowball_stemmer.stem('fastest'))"
   ]
  },
  {
   "cell_type": "code",
   "execution_count": 15,
   "id": "7d67b460",
   "metadata": {},
   "outputs": [
    {
     "name": "stdout",
     "output_type": "stream",
     "text": [
      "Mountain View GPE\n",
      "California GPE\n",
      "100 billion US dollars MONEY\n"
     ]
    }
   ],
   "source": [
    "my_string = u\"Google has its headquaters in Mountain View, California having revenue amount to 100 billion US dollars\"\n",
    "doc = nlp(my_string)\n",
    "for ent in doc.ents:\n",
    "    print(ent.text, ent.label_)"
   ]
  },
  {
   "cell_type": "code",
   "execution_count": 16,
   "id": "3324bf2b",
   "metadata": {},
   "outputs": [
    {
     "name": "stdout",
     "output_type": "stream",
     "text": [
      "Mark Zuckerberg PERSON\n",
      "May 14 1984 DATE\n",
      "New York GPE\n",
      "American NORP\n"
     ]
    }
   ],
   "source": [
    "my_string = u\"Mark Zuckerberg born May 14 1984 in New York is an American entreprenur and philanthropist best known for co-founding and leading Facebook as its CEO\"\n",
    "doc = nlp(my_string)\n",
    "for ent in doc.ents:\n",
    "    print(ent.text, ent.label_)"
   ]
  },
  {
   "cell_type": "markdown",
   "id": "76e4ed48",
   "metadata": {},
   "source": [
    "my_sting1 = u\"Imagine Dragons are the best band\"\n",
    "my_string2 = u\"Imagine dragon come and take over the city\"\n",
    "\n",
    "doc1 =nlp(my_string1)\n",
    "doc2 = nlp(my_string2)\n",
    "\n",
    "for ent in doc1.ents:\n",
    "    print(ent.text, ent.label_)"
   ]
  },
  {
   "cell_type": "code",
   "execution_count": 17,
   "id": "f20cf66c",
   "metadata": {},
   "outputs": [
    {
     "name": "stdout",
     "output_type": "stream",
     "text": [
      "Imagine Dragons ORG\n"
     ]
    }
   ],
   "source": [
    "my_string1 = u\"Imagine Dragons are the best band\" \n",
    "my_string2 = u\"Imagine dragon come and take over the city\"\n",
    "\n",
    "doc1 =nlp(my_string1) \n",
    "doc2 = nlp(my_string2)\n",
    "\n",
    "for ent in doc1.ents:\n",
    "    print(ent.text, ent.label_)\n",
    "    "
   ]
  },
  {
   "cell_type": "code",
   "execution_count": 18,
   "id": "22a49bbe",
   "metadata": {},
   "outputs": [],
   "source": [
    "for ent in doc2.ents:\n",
    "    print(ent.text, ent.label_)"
   ]
  },
  {
   "cell_type": "code",
   "execution_count": 19,
   "id": "ffb35edd",
   "metadata": {},
   "outputs": [
    {
     "name": "stdout",
     "output_type": "stream",
     "text": [
      "{'other', '‘d', 'along', 'first', 'has', '‘re', 'really', 'all', 'throughout', '’d', 'as', 'everywhere', 'and', 'then', 'during', 'most', 'whereafter', 'yet', 'i', 'while', 'more', 'being', 'three', 'six', 'nothing', 'now', \"'re\", 'becoming', 'here', 'had', 'over', 'third', 'always', 'except', 'wherein', 'seemed', 'are', 'hereby', 'before', 'should', 'your', 'therein', 'serious', 'full', 'no', 'against', 'wherever', 'namely', 'via', 'well', 'last', 'made', 'through', 'until', 'than', 'hence', 'latter', 'himself', 'might', 'otherwise', 'everything', 'afterwards', 'its', 'nevertheless', 'fifteen', 'give', 'such', 'out', 'sometimes', 'done', 'seeming', 'per', 'yourself', 'none', 'ten', 'indeed', 'one', 'regarding', 'though', 'hereupon', 'often', 'back', 'meanwhile', 'she', 'further', 'which', 'neither', '’ve', 'since', 'nine', 'own', 'eleven', 'with', 'else', 'five', 'together', 'ours', 'formerly', 'keep', 'they', 'also', 'whenever', 'on', 'moreover', 'about', 'four', 'someone', 'almost', 'already', 'across', 'nobody', 'us', 'many', 'me', 'could', 'ourselves', 'part', 'bottom', 'any', 'once', 'be', 'using', 'everyone', 'mine', 'enough', 'hundred', 'thus', 'he', 'only', 'alone', 'we', 'in', 'who', 'yourselves', 'twenty', 'n’t', 'toward', 'you', 'among', 'several', 'say', 'every', 'twelve', 're', 'an', 'under', 'his', 'name', 'whence', 'beside', 'whom', 'whither', 'two', 'amongst', 'when', '‘ve', 'various', 'hers', 'if', 'at', 'anyone', 'see', 'besides', '‘ll', 'down', '‘s', 'each', 'become', 'much', 'front', 'anyway', 'why', 'those', 'amount', 'quite', 'their', 'whereby', 'anyhow', 'go', 'been', 'however', 'show', 'beforehand', 'because', 'him', 'used', 'next', 'noone', 'therefore', 'there', 'is', 'anywhere', 'less', 'ever', 'something', 'a', 'her', 'nowhere', 'towards', '’s', 'after', 'whole', 'have', 'did', 'just', 'somehow', 'whose', 'top', '’re', 'where', 'forty', 'never', 'ca', 'herein', 'hereafter', 'eight', \"'ve\", 'please', 'thereafter', 'too', 'into', 'off', 'seem', 'rather', 'take', 'for', 'although', 'will', 'thereupon', 'somewhere', 'former', 'again', 'make', 'whereas', 'do', 'am', 'cannot', 'herself', 'upon', 'both', 'was', 'but', 'of', 'n‘t', \"'s\", 'does', 'became', 'unless', 'may', '‘m', \"'m\", 'still', 'very', 'these', 'even', 'becomes', '’m', 'get', 'can', 'few', 'anything', 'sixty', 'elsewhere', 'others', 'them', 'itself', 'were', 'or', 'within', 'whoever', 'without', 'put', 'would', 'between', 'whether', 'this', \"n't\", 'behind', 'doing', 'must', '’ll', 'side', 'empty', 'mostly', 'my', 'yours', 'thence', 'thru', 'sometime', 'up', \"'d\", 'latterly', 'what', 'themselves', 'either', 'that', 'around', 'least', 'another', 'seems', 'fifty', 'whatever', \"'ll\", 'below', 'not', 'how', 'it', 'above', 'call', 'same', 'some', 'beyond', 'the', 'perhaps', 'our', 'onto', 'myself', 'due', 'nor', 'move', 'so', 'from', 'whereupon', 'thereby', 'by', 'to'}\n"
     ]
    }
   ],
   "source": [
    "from spacy.lang.en.stop_words import STOP_WORDS\n",
    "print(STOP_WORDS)"
   ]
  },
  {
   "cell_type": "code",
   "execution_count": 25,
   "id": "70968185",
   "metadata": {},
   "outputs": [
    {
     "data": {
      "text/plain": [
       "True"
      ]
     },
     "execution_count": 25,
     "metadata": {},
     "output_type": "execute_result"
    }
   ],
   "source": [
    "nlp.vocab[u'is'].is_stop"
   ]
  },
  {
   "cell_type": "code",
   "execution_count": 28,
   "id": "53e4134e",
   "metadata": {},
   "outputs": [
    {
     "data": {
      "text/plain": [
       "[from, flight, Book]"
      ]
     },
     "execution_count": 28,
     "metadata": {},
     "output_type": "execute_result"
    }
   ],
   "source": [
    "doc = nlp(u'Book me a flight from Bangalore to Goa')\n",
    "blr, goa = doc[5], doc[7]\n",
    "list(blr.ancestors)"
   ]
  },
  {
   "cell_type": "code",
   "execution_count": 24,
   "id": "fba11a4e",
   "metadata": {},
   "outputs": [
    {
     "data": {
      "text/plain": [
       "[to, flight, Book]"
      ]
     },
     "execution_count": 24,
     "metadata": {},
     "output_type": "execute_result"
    }
   ],
   "source": [
    "list(goa.ancestors)"
   ]
  },
  {
   "cell_type": "code",
   "execution_count": 25,
   "id": "2152417b",
   "metadata": {},
   "outputs": [
    {
     "data": {
      "text/plain": [
       "[flight, Book]"
      ]
     },
     "execution_count": 25,
     "metadata": {},
     "output_type": "execute_result"
    }
   ],
   "source": [
    "list(doc[4].ancestors)"
   ]
  },
  {
   "cell_type": "code",
   "execution_count": 26,
   "id": "c42d020d",
   "metadata": {},
   "outputs": [
    {
     "data": {
      "text/plain": [
       "True"
      ]
     },
     "execution_count": 26,
     "metadata": {},
     "output_type": "execute_result"
    }
   ],
   "source": [
    "doc[3].is_ancestor(doc[5])"
   ]
  },
  {
   "cell_type": "code",
   "execution_count": 27,
   "id": "394cec37",
   "metadata": {},
   "outputs": [
    {
     "name": "stdout",
     "output_type": "stream",
     "text": [
      "Booking of table belongs to restaurant\n"
     ]
    }
   ],
   "source": [
    "doc =nlp(u\"Book a table at the restaurant and the taxi to the hotel\")\n",
    "tasks = doc[2], doc[8] #(table, taxi)\n",
    "tasks_target = doc[5], doc[11]\n",
    "\n",
    "for task in tasks_target:\n",
    "    for tok in task.ancestors:\n",
    "        if tok in tasks:\n",
    "            print('Booking of {} belongs to {}'.format(tok, task))\n",
    "    break"
   ]
  },
  {
   "cell_type": "code",
   "execution_count": 29,
   "id": "8b20bac9",
   "metadata": {},
   "outputs": [
    {
     "data": {
      "text/plain": [
       "[a, from, to]"
      ]
     },
     "execution_count": 29,
     "metadata": {},
     "output_type": "execute_result"
    }
   ],
   "source": [
    "list(doc[3].children)"
   ]
  },
  {
   "cell_type": "code",
   "execution_count": 30,
   "id": "732c2866",
   "metadata": {},
   "outputs": [
    {
     "ename": "AttributeError",
     "evalue": "'function' object has no attribute 'serve'",
     "output_type": "error",
     "traceback": [
      "\u001b[1;31m---------------------------------------------------------------------------\u001b[0m",
      "\u001b[1;31mAttributeError\u001b[0m                            Traceback (most recent call last)",
      "\u001b[1;32m~\\AppData\\Local\\Temp/ipykernel_5696/3213792689.py\u001b[0m in \u001b[0;36m<module>\u001b[1;34m\u001b[0m\n\u001b[0;32m      1\u001b[0m \u001b[1;32mfrom\u001b[0m \u001b[0mspacy\u001b[0m \u001b[1;32mimport\u001b[0m \u001b[0mdisplacy\u001b[0m\u001b[1;33m\u001b[0m\u001b[1;33m\u001b[0m\u001b[0m\n\u001b[0;32m      2\u001b[0m \u001b[0mdoc\u001b[0m \u001b[1;33m=\u001b[0m \u001b[0mnlp\u001b[0m\u001b[1;33m(\u001b[0m\u001b[1;34mu'Book a table at the restaurant and the taxi to the hotel'\u001b[0m\u001b[1;33m)\u001b[0m\u001b[1;33m\u001b[0m\u001b[1;33m\u001b[0m\u001b[0m\n\u001b[1;32m----> 3\u001b[1;33m \u001b[0mdisplay\u001b[0m\u001b[1;33m.\u001b[0m\u001b[0mserve\u001b[0m\u001b[1;33m(\u001b[0m\u001b[0mdoc\u001b[0m\u001b[1;33m,\u001b[0m \u001b[0mstyle\u001b[0m\u001b[1;33m=\u001b[0m\u001b[1;34m'dep'\u001b[0m\u001b[1;33m)\u001b[0m\u001b[1;33m\u001b[0m\u001b[1;33m\u001b[0m\u001b[0m\n\u001b[0m",
      "\u001b[1;31mAttributeError\u001b[0m: 'function' object has no attribute 'serve'"
     ]
    }
   ],
   "source": [
    "from spacy import displacy\n",
    "doc = nlp(u'Book a table at the restaurant and the taxi to the hotel')\n",
    "display.serve(doc, style='dep')"
   ]
  },
  {
   "cell_type": "code",
   "execution_count": null,
   "id": "5c7d8bb2",
   "metadata": {},
   "outputs": [],
   "source": []
  }
 ],
 "metadata": {
  "kernelspec": {
   "display_name": "Python 3 (ipykernel)",
   "language": "python",
   "name": "python3"
  },
  "language_info": {
   "codemirror_mode": {
    "name": "ipython",
    "version": 3
   },
   "file_extension": ".py",
   "mimetype": "text/x-python",
   "name": "python",
   "nbconvert_exporter": "python",
   "pygments_lexer": "ipython3",
   "version": "3.8.8"
  }
 },
 "nbformat": 4,
 "nbformat_minor": 5
}
